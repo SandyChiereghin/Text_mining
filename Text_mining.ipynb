{
 "cells": [
  {
   "cell_type": "markdown",
   "id": "21ceaa82",
   "metadata": {},
   "source": [
    "# Text_mining\n",
    "\n",
    "## Sentiment analysis exercises and texts.\n",
    "\n",
    "- Exercise 1\n",
    "Take any English text you want, and calculate the frequency of its words.\n",
    "\n",
    "\n",
    "- Exercise 2\n",
    "Remove the stopwords and perform stemming on your dataset.\n",
    "\n",
    "\n",
    "- Exercise 3\n",
    "Perform sentiment analysis on your dataset."
   ]
  },
  {
   "cell_type": "code",
   "execution_count": null,
   "id": "38e53fed",
   "metadata": {},
   "outputs": [],
   "source": [
    "!pip install nltk\n"
   ]
  },
  {
   "cell_type": "code",
   "execution_count": 1,
   "id": "909414b6",
   "metadata": {},
   "outputs": [],
   "source": [
    "#Loading NLTK\n",
    "import nltk\n",
    "from nltk.tokenize import sent_tokenize"
   ]
  },
  {
   "cell_type": "code",
   "execution_count": 2,
   "id": "5aa57b28",
   "metadata": {},
   "outputs": [
    {
     "name": "stdout",
     "output_type": "stream",
     "text": [
      "['The Best Method To Design User-Friendly Products\\nIt’s simple but no one uses it.', 'How do you design user-friendly products?', 'This is a question I hear a lot from my mentees.', 'Especially from starting ones.', 'When you work and have a real product, you can communicate with the target audience because you have them.', 'But what can you do at the beginning of your career when you work with concept projects?', 'I was also at your place once.', 'I remember my struggle with what design solution would be the best and how I could validate it.', 'My concepts are great, but will they work?', 'What might my future users might want or what value can I bring?', 'I tried many methods, like finding examples of high-quality work on Behance or Dribbble.', 'Another method was to compare similar online products.', 'All those methods were helpful, but I couldn’t validate them for sure.', 'That was until I tried a new method.', 'My Method of Building Concept Projects\\n\\nA concept project is a big challenge, but also your chance to work with any level of complexity, industry, or even MAANG products.', 'It’s up to you what your next project will be about.', 'Once you start your work, you might be wondering where your major improvement is.', 'You can improve or create so many things, so where to start?', 'You need to start by understanding your project goals.', 'For example, you want to provide a better experience to watch movies via phone.', 'This is your general idea.', 'Next, concentrate on features that are currently online and make a list of them.', 'Start ideating your solutions.', 'Once you have a list of your solutions, create a user scenario and follow it.', 'User scenario — this is an imaginary situation of what path your user would follow with a particular problem.', 'For example, your user wants to find a concrete movie in your product.', 'Based on your feature ideas, what path will your user follow?', 'Create a set of actions with a diagram to better understand your user’s actions.', 'Once you’re done, put yourself in the user’s place.', 'Start doing the same actions as you want your user to do.', 'During the steps you’ll make, you can quickly ideate what you’re missing and how you can improve your product.', 'This method works because your task is not to check one screen, but a set of screens along with features.', 'Behaving as a user helps you to understand how your concept works and what you’d like to have to make the final goal of the user scenario.', 'Final Thoughts\\nCreating separate screens is a great way to start working on your project.', 'But to see the whole picture of your ideas, you need to use the user scenario method.', 'Start behaving as a user and perform the same steps according to each scenario of your product.', 'This simple trick saves you time and gives an understanding of what improvements you might want to add.', 'Try this today and see what your design concept is missing.']\n"
     ]
    }
   ],
   "source": [
    "text=\"\"\"The Best Method To Design User-Friendly Products\n",
    "It’s simple but no one uses it.\n",
    "\n",
    "How do you design user-friendly products? This is a question I hear a lot from my mentees. Especially from starting ones.\n",
    "\n",
    "When you work and have a real product, you can communicate with the target audience because you have them. But what can you do at the beginning of your career when you work with concept projects?\n",
    "\n",
    "I was also at your place once. I remember my struggle with what design solution would be the best and how I could validate it.\n",
    "\n",
    "My concepts are great, but will they work? What might my future users might want or what value can I bring?\n",
    "\n",
    "I tried many methods, like finding examples of high-quality work on Behance or Dribbble. Another method was to compare similar online products.\n",
    "\n",
    "All those methods were helpful, but I couldn’t validate them for sure. That was until I tried a new method.\n",
    "\n",
    "My Method of Building Concept Projects\n",
    "\n",
    "A concept project is a big challenge, but also your chance to work with any level of complexity, industry, or even MAANG products. It’s up to you what your next project will be about.\n",
    "\n",
    "Once you start your work, you might be wondering where your major improvement is. You can improve or create so many things, so where to start?\n",
    "\n",
    "You need to start by understanding your project goals. For example, you want to provide a better experience to watch movies via phone. This is your general idea.\n",
    "\n",
    "Next, concentrate on features that are currently online and make a list of them. Start ideating your solutions. Once you have a list of your solutions, create a user scenario and follow it.\n",
    "\n",
    "User scenario — this is an imaginary situation of what path your user would follow with a particular problem.\n",
    "\n",
    "For example, your user wants to find a concrete movie in your product. Based on your feature ideas, what path will your user follow?\n",
    "\n",
    "Create a set of actions with a diagram to better understand your user’s actions. Once you’re done, put yourself in the user’s place.\n",
    "\n",
    "Start doing the same actions as you want your user to do. During the steps you’ll make, you can quickly ideate what you’re missing and how you can improve your product.\n",
    "\n",
    "This method works because your task is not to check one screen, but a set of screens along with features.\n",
    "\n",
    "Behaving as a user helps you to understand how your concept works and what you’d like to have to make the final goal of the user scenario.\n",
    "\n",
    "Final Thoughts\n",
    "Creating separate screens is a great way to start working on your project. But to see the whole picture of your ideas, you need to use the user scenario method.\n",
    "\n",
    "Start behaving as a user and perform the same steps according to each scenario of your product.\n",
    "\n",
    "This simple trick saves you time and gives an understanding of what improvements you might want to add.\n",
    "\n",
    "Try this today and see what your design concept is missing.\"\"\"\n",
    "\n",
    "tokenized_text=sent_tokenize(text)\n",
    "print(tokenized_text)"
   ]
  },
  {
   "cell_type": "markdown",
   "id": "fe6dd2e3",
   "metadata": {},
   "source": [
    "### Text source:\n",
    "https://medium.com/ux-designers-club/the-best-method-to-design-user-friendly-products-12ce17f58b25"
   ]
  },
  {
   "cell_type": "markdown",
   "id": "d8def4a5",
   "metadata": {},
   "source": [
    "## Tokenization"
   ]
  },
  {
   "cell_type": "code",
   "execution_count": 3,
   "id": "41f20454",
   "metadata": {},
   "outputs": [
    {
     "name": "stdout",
     "output_type": "stream",
     "text": [
      "['The Best Method To Design User-Friendly Products\\nIt’s simple but no one uses it.', 'How do you design user-friendly products?', 'This is a question I hear a lot from my mentees.', 'Especially from starting ones.', 'When you work and have a real product, you can communicate with the target audience because you have them.', 'But what can you do at the beginning of your career when you work with concept projects?', 'I was also at your place once.', 'I remember my struggle with what design solution would be the best and how I could validate it.', 'My concepts are great, but will they work?', 'What might my future users might want or what value can I bring?', 'I tried many methods, like finding examples of high-quality work on Behance or Dribbble.', 'Another method was to compare similar online products.', 'All those methods were helpful, but I couldn’t validate them for sure.', 'That was until I tried a new method.', 'My Method of Building Concept Projects\\n\\nA concept project is a big challenge, but also your chance to work with any level of complexity, industry, or even MAANG products.', 'It’s up to you what your next project will be about.', 'Once you start your work, you might be wondering where your major improvement is.', 'You can improve or create so many things, so where to start?', 'You need to start by understanding your project goals.', 'For example, you want to provide a better experience to watch movies via phone.', 'This is your general idea.', 'Next, concentrate on features that are currently online and make a list of them.', 'Start ideating your solutions.', 'Once you have a list of your solutions, create a user scenario and follow it.', 'User scenario — this is an imaginary situation of what path your user would follow with a particular problem.', 'For example, your user wants to find a concrete movie in your product.', 'Based on your feature ideas, what path will your user follow?', 'Create a set of actions with a diagram to better understand your user’s actions.', 'Once you’re done, put yourself in the user’s place.', 'Start doing the same actions as you want your user to do.', 'During the steps you’ll make, you can quickly ideate what you’re missing and how you can improve your product.', 'This method works because your task is not to check one screen, but a set of screens along with features.', 'Behaving as a user helps you to understand how your concept works and what you’d like to have to make the final goal of the user scenario.', 'Final Thoughts\\nCreating separate screens is a great way to start working on your project.', 'But to see the whole picture of your ideas, you need to use the user scenario method.', 'Start behaving as a user and perform the same steps according to each scenario of your product.', 'This simple trick saves you time and gives an understanding of what improvements you might want to add.', 'Try this today and see what your design concept is missing.']\n"
     ]
    }
   ],
   "source": [
    "from nltk.tokenize import sent_tokenize\n",
    "tokenized_text=sent_tokenize(text)\n",
    "print(tokenized_text)"
   ]
  },
  {
   "cell_type": "markdown",
   "id": "d6727d79",
   "metadata": {},
   "source": [
    "The given text is now, tokenized into sentences."
   ]
  },
  {
   "cell_type": "code",
   "execution_count": 4,
   "id": "edf76e85",
   "metadata": {},
   "outputs": [
    {
     "name": "stdout",
     "output_type": "stream",
     "text": [
      "['The', 'Best', 'Method', 'To', 'Design', 'User-Friendly', 'Products', 'It', '’', 's', 'simple', 'but', 'no', 'one', 'uses', 'it', '.', 'How', 'do', 'you', 'design', 'user-friendly', 'products', '?', 'This', 'is', 'a', 'question', 'I', 'hear', 'a', 'lot', 'from', 'my', 'mentees', '.', 'Especially', 'from', 'starting', 'ones', '.', 'When', 'you', 'work', 'and', 'have', 'a', 'real', 'product', ',', 'you', 'can', 'communicate', 'with', 'the', 'target', 'audience', 'because', 'you', 'have', 'them', '.', 'But', 'what', 'can', 'you', 'do', 'at', 'the', 'beginning', 'of', 'your', 'career', 'when', 'you', 'work', 'with', 'concept', 'projects', '?', 'I', 'was', 'also', 'at', 'your', 'place', 'once', '.', 'I', 'remember', 'my', 'struggle', 'with', 'what', 'design', 'solution', 'would', 'be', 'the', 'best', 'and', 'how', 'I', 'could', 'validate', 'it', '.', 'My', 'concepts', 'are', 'great', ',', 'but', 'will', 'they', 'work', '?', 'What', 'might', 'my', 'future', 'users', 'might', 'want', 'or', 'what', 'value', 'can', 'I', 'bring', '?', 'I', 'tried', 'many', 'methods', ',', 'like', 'finding', 'examples', 'of', 'high-quality', 'work', 'on', 'Behance', 'or', 'Dribbble', '.', 'Another', 'method', 'was', 'to', 'compare', 'similar', 'online', 'products', '.', 'All', 'those', 'methods', 'were', 'helpful', ',', 'but', 'I', 'couldn', '’', 't', 'validate', 'them', 'for', 'sure', '.', 'That', 'was', 'until', 'I', 'tried', 'a', 'new', 'method', '.', 'My', 'Method', 'of', 'Building', 'Concept', 'Projects', 'A', 'concept', 'project', 'is', 'a', 'big', 'challenge', ',', 'but', 'also', 'your', 'chance', 'to', 'work', 'with', 'any', 'level', 'of', 'complexity', ',', 'industry', ',', 'or', 'even', 'MAANG', 'products', '.', 'It', '’', 's', 'up', 'to', 'you', 'what', 'your', 'next', 'project', 'will', 'be', 'about', '.', 'Once', 'you', 'start', 'your', 'work', ',', 'you', 'might', 'be', 'wondering', 'where', 'your', 'major', 'improvement', 'is', '.', 'You', 'can', 'improve', 'or', 'create', 'so', 'many', 'things', ',', 'so', 'where', 'to', 'start', '?', 'You', 'need', 'to', 'start', 'by', 'understanding', 'your', 'project', 'goals', '.', 'For', 'example', ',', 'you', 'want', 'to', 'provide', 'a', 'better', 'experience', 'to', 'watch', 'movies', 'via', 'phone', '.', 'This', 'is', 'your', 'general', 'idea', '.', 'Next', ',', 'concentrate', 'on', 'features', 'that', 'are', 'currently', 'online', 'and', 'make', 'a', 'list', 'of', 'them', '.', 'Start', 'ideating', 'your', 'solutions', '.', 'Once', 'you', 'have', 'a', 'list', 'of', 'your', 'solutions', ',', 'create', 'a', 'user', 'scenario', 'and', 'follow', 'it', '.', 'User', 'scenario', '—', 'this', 'is', 'an', 'imaginary', 'situation', 'of', 'what', 'path', 'your', 'user', 'would', 'follow', 'with', 'a', 'particular', 'problem', '.', 'For', 'example', ',', 'your', 'user', 'wants', 'to', 'find', 'a', 'concrete', 'movie', 'in', 'your', 'product', '.', 'Based', 'on', 'your', 'feature', 'ideas', ',', 'what', 'path', 'will', 'your', 'user', 'follow', '?', 'Create', 'a', 'set', 'of', 'actions', 'with', 'a', 'diagram', 'to', 'better', 'understand', 'your', 'user', '’', 's', 'actions', '.', 'Once', 'you', '’', 're', 'done', ',', 'put', 'yourself', 'in', 'the', 'user', '’', 's', 'place', '.', 'Start', 'doing', 'the', 'same', 'actions', 'as', 'you', 'want', 'your', 'user', 'to', 'do', '.', 'During', 'the', 'steps', 'you', '’', 'll', 'make', ',', 'you', 'can', 'quickly', 'ideate', 'what', 'you', '’', 're', 'missing', 'and', 'how', 'you', 'can', 'improve', 'your', 'product', '.', 'This', 'method', 'works', 'because', 'your', 'task', 'is', 'not', 'to', 'check', 'one', 'screen', ',', 'but', 'a', 'set', 'of', 'screens', 'along', 'with', 'features', '.', 'Behaving', 'as', 'a', 'user', 'helps', 'you', 'to', 'understand', 'how', 'your', 'concept', 'works', 'and', 'what', 'you', '’', 'd', 'like', 'to', 'have', 'to', 'make', 'the', 'final', 'goal', 'of', 'the', 'user', 'scenario', '.', 'Final', 'Thoughts', 'Creating', 'separate', 'screens', 'is', 'a', 'great', 'way', 'to', 'start', 'working', 'on', 'your', 'project', '.', 'But', 'to', 'see', 'the', 'whole', 'picture', 'of', 'your', 'ideas', ',', 'you', 'need', 'to', 'use', 'the', 'user', 'scenario', 'method', '.', 'Start', 'behaving', 'as', 'a', 'user', 'and', 'perform', 'the', 'same', 'steps', 'according', 'to', 'each', 'scenario', 'of', 'your', 'product', '.', 'This', 'simple', 'trick', 'saves', 'you', 'time', 'and', 'gives', 'an', 'understanding', 'of', 'what', 'improvements', 'you', 'might', 'want', 'to', 'add', '.', 'Try', 'this', 'today', 'and', 'see', 'what', 'your', 'design', 'concept', 'is', 'missing', '.']\n"
     ]
    }
   ],
   "source": [
    "from nltk.tokenize import word_tokenize\n",
    "tokenized_word=word_tokenize(text)\n",
    "print(tokenized_word)"
   ]
  },
  {
   "cell_type": "markdown",
   "id": "d1c9c4a6",
   "metadata": {},
   "source": [
    "#### Let see the frequency:\n"
   ]
  },
  {
   "cell_type": "code",
   "execution_count": 5,
   "id": "90c86463",
   "metadata": {},
   "outputs": [
    {
     "name": "stdout",
     "output_type": "stream",
     "text": [
      "<FreqDist with 241 samples and 582 outcomes>\n"
     ]
    }
   ],
   "source": [
    "from nltk.probability import FreqDist\n",
    "fdist = FreqDist(tokenized_word)\n",
    "print(fdist)"
   ]
  },
  {
   "cell_type": "code",
   "execution_count": 6,
   "id": "a3130303",
   "metadata": {},
   "outputs": [
    {
     "data": {
      "text/plain": [
       "[('.', 32),\n",
       " ('your', 24),\n",
       " ('you', 22),\n",
       " ('to', 19),\n",
       " (',', 18),\n",
       " ('a', 17),\n",
       " ('of', 13),\n",
       " ('the', 11),\n",
       " ('user', 11),\n",
       " ('what', 10)]"
      ]
     },
     "execution_count": 6,
     "metadata": {},
     "output_type": "execute_result"
    }
   ],
   "source": [
    "fdist.most_common(10)\n"
   ]
  },
  {
   "cell_type": "code",
   "execution_count": 7,
   "id": "2344bf9a",
   "metadata": {},
   "outputs": [
    {
     "data": {
      "image/png": "[encoded data removed]",
      "text/plain": [
       "<Figure size 1440x720 with 1 Axes>"
      ]
     },
     "metadata": {
      "needs_background": "light"
     },
     "output_type": "display_data"
    }
   ],
   "source": [
    "# Frequency Distribution Plot\n",
    "import matplotlib.pyplot as plt\n",
    "fig = plt.figure(figsize = (20,10))\n",
    "fdist.plot(30,cumulative=False)\n",
    "plt.show()"
   ]
  },
  {
   "cell_type": "markdown",
   "id": "93353751",
   "metadata": {},
   "source": [
    "From the visualization we can see a lot of stop words that don't deliver much value to our analisys."
   ]
  },
  {
   "cell_type": "markdown",
   "id": "9501ea26",
   "metadata": {},
   "source": [
    "### Cutting off stopwords:"
   ]
  },
  {
   "cell_type": "code",
   "execution_count": 8,
   "id": "1b0669d8",
   "metadata": {},
   "outputs": [
    {
     "name": "stderr",
     "output_type": "stream",
     "text": [
      "[nltk_data] Downloading package stopwords to\n",
      "[nltk_data]     /Users/sandychiereghin/nltk_data...\n",
      "[nltk_data]   Package stopwords is already up-to-date!\n"
     ]
    },
    {
     "data": {
      "text/plain": [
       "True"
      ]
     },
     "execution_count": 8,
     "metadata": {},
     "output_type": "execute_result"
    }
   ],
   "source": [
    "nltk.download('stopwords')"
   ]
  },
  {
   "cell_type": "code",
   "execution_count": 9,
   "id": "1e3f340b",
   "metadata": {},
   "outputs": [
    {
     "name": "stderr",
     "output_type": "stream",
     "text": [
      "[nltk_data] Downloading package punkt to\n",
      "[nltk_data]     /Users/sandychiereghin/nltk_data...\n",
      "[nltk_data]   Package punkt is already up-to-date!\n"
     ]
    },
    {
     "data": {
      "text/plain": [
       "True"
      ]
     },
     "execution_count": 9,
     "metadata": {},
     "output_type": "execute_result"
    }
   ],
   "source": [
    "nltk.download('punkt')"
   ]
  },
  {
   "cell_type": "code",
   "execution_count": 10,
   "id": "d1f9d873",
   "metadata": {},
   "outputs": [
    {
     "name": "stderr",
     "output_type": "stream",
     "text": [
      "[nltk_data] Downloading package vader_lexicon to\n",
      "[nltk_data]     /Users/sandychiereghin/nltk_data...\n",
      "[nltk_data]   Package vader_lexicon is already up-to-date!\n"
     ]
    },
    {
     "data": {
      "text/plain": [
       "True"
      ]
     },
     "execution_count": 10,
     "metadata": {},
     "output_type": "execute_result"
    }
   ],
   "source": [
    "nltk.download('vader_lexicon')"
   ]
  },
  {
   "cell_type": "code",
   "execution_count": 11,
   "id": "cc27190b",
   "metadata": {},
   "outputs": [
    {
     "name": "stdout",
     "output_type": "stream",
     "text": [
      "{'only', 'on', \"shouldn't\", \"you've\", 'should', 'once', 'any', 'is', 'needn', 'during', \"isn't\", 'wasn', \"haven't\", 'o', 'an', 'while', 'can', 's', 'who', 'whom', 'above', 'your', \"shan't\", 'am', 'ourselves', 'm', 'had', 'same', 'they', 'was', 'each', 'most', 'very', 're', 'i', \"mustn't\", 't', \"don't\", 'we', 'further', \"aren't\", 'her', 'for', 'just', 'under', 'few', \"hadn't\", 'this', 'weren', 'there', 'that', 'into', 'until', 'are', 'at', 'other', 'will', 'didn', \"needn't\", \"wouldn't\", 'itself', 'yours', 'be', 'been', 'such', 'the', 'of', 'does', 'doing', 'mightn', 'shouldn', 'theirs', \"hasn't\", 'these', 'yourself', \"doesn't\", 'all', \"didn't\", 'their', 'do', 'did', 'through', 'and', 'over', 'shan', 'a', 'couldn', 'our', 'its', 'him', 'own', 'isn', \"it's\", 'being', 'so', 'not', 'ma', 'as', 'no', 'my', 'doesn', 'y', 'both', \"she's\", 'herself', 'hadn', 'nor', \"you're\", 'd', 'me', 'before', 'up', \"should've\", 'themselves', 'them', 'hers', 'haven', 'again', \"you'll\", 'those', 'after', 'now', \"won't\", 'against', 'himself', 'more', 'what', 'off', 'then', 'were', 'how', \"couldn't\", \"weren't\", 'out', 'down', 'where', 'won', 'has', 'to', 've', 'too', 'he', 'but', 'about', 'don', 'here', 'hasn', 'it', 'by', 'some', 'in', 'you', \"you'd\", 'yourselves', 'having', 'myself', 'wouldn', 'have', 'when', 'below', 'why', 'from', 'if', 'between', 'or', 'she', 'because', 'ain', 'aren', \"wasn't\", 'than', 'his', \"mightn't\", 'which', \"that'll\", 'mustn', 'ours', 'with', 'll'}\n"
     ]
    }
   ],
   "source": [
    "from nltk.corpus import stopwords\n",
    "stop_words=set(stopwords.words(\"english\"))\n",
    "print(stop_words)"
   ]
  },
  {
   "cell_type": "code",
   "execution_count": 12,
   "id": "253d9fca",
   "metadata": {},
   "outputs": [
    {
     "name": "stdout",
     "output_type": "stream",
     "text": [
      "Tokenized Sentence: ['The', 'Best', 'Method', 'To', 'Design', 'User-Friendly', 'Products', 'It', '’', 's', 'simple', 'but', 'no', 'one', 'uses', 'it', '.', 'How', 'do', 'you', 'design', 'user-friendly', 'products', '?', 'This', 'is', 'a', 'question', 'I', 'hear', 'a', 'lot', 'from', 'my', 'mentees', '.', 'Especially', 'from', 'starting', 'ones', '.', 'When', 'you', 'work', 'and', 'have', 'a', 'real', 'product', ',', 'you', 'can', 'communicate', 'with', 'the', 'target', 'audience', 'because', 'you', 'have', 'them', '.', 'But', 'what', 'can', 'you', 'do', 'at', 'the', 'beginning', 'of', 'your', 'career', 'when', 'you', 'work', 'with', 'concept', 'projects', '?', 'I', 'was', 'also', 'at', 'your', 'place', 'once', '.', 'I', 'remember', 'my', 'struggle', 'with', 'what', 'design', 'solution', 'would', 'be', 'the', 'best', 'and', 'how', 'I', 'could', 'validate', 'it', '.', 'My', 'concepts', 'are', 'great', ',', 'but', 'will', 'they', 'work', '?', 'What', 'might', 'my', 'future', 'users', 'might', 'want', 'or', 'what', 'value', 'can', 'I', 'bring', '?', 'I', 'tried', 'many', 'methods', ',', 'like', 'finding', 'examples', 'of', 'high-quality', 'work', 'on', 'Behance', 'or', 'Dribbble', '.', 'Another', 'method', 'was', 'to', 'compare', 'similar', 'online', 'products', '.', 'All', 'those', 'methods', 'were', 'helpful', ',', 'but', 'I', 'couldn', '’', 't', 'validate', 'them', 'for', 'sure', '.', 'That', 'was', 'until', 'I', 'tried', 'a', 'new', 'method', '.', 'My', 'Method', 'of', 'Building', 'Concept', 'Projects', 'A', 'concept', 'project', 'is', 'a', 'big', 'challenge', ',', 'but', 'also', 'your', 'chance', 'to', 'work', 'with', 'any', 'level', 'of', 'complexity', ',', 'industry', ',', 'or', 'even', 'MAANG', 'products', '.', 'It', '’', 's', 'up', 'to', 'you', 'what', 'your', 'next', 'project', 'will', 'be', 'about', '.', 'Once', 'you', 'start', 'your', 'work', ',', 'you', 'might', 'be', 'wondering', 'where', 'your', 'major', 'improvement', 'is', '.', 'You', 'can', 'improve', 'or', 'create', 'so', 'many', 'things', ',', 'so', 'where', 'to', 'start', '?', 'You', 'need', 'to', 'start', 'by', 'understanding', 'your', 'project', 'goals', '.', 'For', 'example', ',', 'you', 'want', 'to', 'provide', 'a', 'better', 'experience', 'to', 'watch', 'movies', 'via', 'phone', '.', 'This', 'is', 'your', 'general', 'idea', '.', 'Next', ',', 'concentrate', 'on', 'features', 'that', 'are', 'currently', 'online', 'and', 'make', 'a', 'list', 'of', 'them', '.', 'Start', 'ideating', 'your', 'solutions', '.', 'Once', 'you', 'have', 'a', 'list', 'of', 'your', 'solutions', ',', 'create', 'a', 'user', 'scenario', 'and', 'follow', 'it', '.', 'User', 'scenario', '—', 'this', 'is', 'an', 'imaginary', 'situation', 'of', 'what', 'path', 'your', 'user', 'would', 'follow', 'with', 'a', 'particular', 'problem', '.', 'For', 'example', ',', 'your', 'user', 'wants', 'to', 'find', 'a', 'concrete', 'movie', 'in', 'your', 'product', '.', 'Based', 'on', 'your', 'feature', 'ideas', ',', 'what', 'path', 'will', 'your', 'user', 'follow', '?', 'Create', 'a', 'set', 'of', 'actions', 'with', 'a', 'diagram', 'to', 'better', 'understand', 'your', 'user', '’', 's', 'actions', '.', 'Once', 'you', '’', 're', 'done', ',', 'put', 'yourself', 'in', 'the', 'user', '’', 's', 'place', '.', 'Start', 'doing', 'the', 'same', 'actions', 'as', 'you', 'want', 'your', 'user', 'to', 'do', '.', 'During', 'the', 'steps', 'you', '’', 'll', 'make', ',', 'you', 'can', 'quickly', 'ideate', 'what', 'you', '’', 're', 'missing', 'and', 'how', 'you', 'can', 'improve', 'your', 'product', '.', 'This', 'method', 'works', 'because', 'your', 'task', 'is', 'not', 'to', 'check', 'one', 'screen', ',', 'but', 'a', 'set', 'of', 'screens', 'along', 'with', 'features', '.', 'Behaving', 'as', 'a', 'user', 'helps', 'you', 'to', 'understand', 'how', 'your', 'concept', 'works', 'and', 'what', 'you', '’', 'd', 'like', 'to', 'have', 'to', 'make', 'the', 'final', 'goal', 'of', 'the', 'user', 'scenario', '.', 'Final', 'Thoughts', 'Creating', 'separate', 'screens', 'is', 'a', 'great', 'way', 'to', 'start', 'working', 'on', 'your', 'project', '.', 'But', 'to', 'see', 'the', 'whole', 'picture', 'of', 'your', 'ideas', ',', 'you', 'need', 'to', 'use', 'the', 'user', 'scenario', 'method', '.', 'Start', 'behaving', 'as', 'a', 'user', 'and', 'perform', 'the', 'same', 'steps', 'according', 'to', 'each', 'scenario', 'of', 'your', 'product', '.', 'This', 'simple', 'trick', 'saves', 'you', 'time', 'and', 'gives', 'an', 'understanding', 'of', 'what', 'improvements', 'you', 'might', 'want', 'to', 'add', '.', 'Try', 'this', 'today', 'and', 'see', 'what', 'your', 'design', 'concept', 'is', 'missing', '.']\n",
      "Filtered Sentence: ['The', 'Best', 'Method', 'To', 'Design', 'User-Friendly', 'Products', 'It', 'simple', 'one', 'uses', 'How', 'design', 'user-friendly', 'products', 'This', 'question', 'hear', 'lot', 'mentees', 'Especially', 'starting', 'ones', 'When', 'work', 'real', 'product', 'communicate', 'target', 'audience', 'But', 'beginning', 'career', 'work', 'concept', 'projects', 'also', 'place', 'remember', 'struggle', 'design', 'solution', 'would', 'best', 'could', 'validate', 'My', 'concepts', 'great', 'work', 'What', 'might', 'future', 'users', 'might', 'want', 'value', 'bring', 'tried', 'many', 'methods', 'like', 'finding', 'examples', 'high-quality', 'work', 'Behance', 'Dribbble', 'Another', 'method', 'compare', 'similar', 'online', 'products', 'All', 'methods', 'helpful', 'validate', 'sure', 'That', 'tried', 'new', 'method', 'My', 'Method', 'Building', 'Concept', 'Projects', 'A', 'concept', 'project', 'big', 'challenge', 'also', 'chance', 'work', 'level', 'complexity', 'industry', 'even', 'MAANG', 'products', 'It', 'next', 'project', 'Once', 'start', 'work', 'might', 'wondering', 'major', 'improvement', 'You', 'improve', 'create', 'many', 'things', 'start', 'You', 'need', 'start', 'understanding', 'project', 'goals', 'For', 'example', 'want', 'provide', 'better', 'experience', 'watch', 'movies', 'via', 'phone', 'This', 'general', 'idea', 'Next', 'concentrate', 'features', 'currently', 'online', 'make', 'list', 'Start', 'ideating', 'solutions', 'Once', 'list', 'solutions', 'create', 'user', 'scenario', 'follow', 'User', 'scenario', '—', 'imaginary', 'situation', 'path', 'user', 'would', 'follow', 'particular', 'problem', 'For', 'example', 'user', 'wants', 'find', 'concrete', 'movie', 'product', 'Based', 'feature', 'ideas', 'path', 'user', 'follow', 'Create', 'set', 'actions', 'diagram', 'better', 'understand', 'user', 'actions', 'Once', 'done', 'put', 'user', 'place', 'Start', 'actions', 'want', 'user', 'During', 'steps', 'make', 'quickly', 'ideate', 'missing', 'improve', 'product', 'This', 'method', 'works', 'task', 'check', 'one', 'screen', 'set', 'screens', 'along', 'features', 'Behaving', 'user', 'helps', 'understand', 'concept', 'works', 'like', 'make', 'final', 'goal', 'user', 'scenario', 'Final', 'Thoughts', 'Creating', 'separate', 'screens', 'great', 'way', 'start', 'working', 'project', 'But', 'see', 'whole', 'picture', 'ideas', 'need', 'use', 'user', 'scenario', 'method', 'Start', 'behaving', 'user', 'perform', 'steps', 'according', 'scenario', 'product', 'This', 'simple', 'trick', 'saves', 'time', 'gives', 'understanding', 'improvements', 'might', 'want', 'add', 'Try', 'today', 'see', 'design', 'concept', 'missing']\n"
     ]
    }
   ],
   "source": [
    "#remooving them\n",
    "\n",
    "filtered_sent=[]\n",
    "for w in tokenized_word:\n",
    "    if w not in stop_words and w not in (',', '.', '(', ')', '%', \"'s\",'’','?','I'): # I added some more stopwords/characters to remove\n",
    "        filtered_sent.append(w)\n",
    "print(\"Tokenized Sentence:\",tokenized_word)\n",
    "print(\"Filtered Sentence:\",filtered_sent)"
   ]
  },
  {
   "cell_type": "code",
   "execution_count": 13,
   "id": "e5bf4d1e",
   "metadata": {},
   "outputs": [
    {
     "name": "stdout",
     "output_type": "stream",
     "text": [
      "Filtered Sentence: ['The', 'Best', 'Method', 'To', 'Design', 'User-Friendly', 'Products', 'It', 'simple', 'one', 'uses', 'How', 'design', 'user-friendly', 'products', 'This', 'question', 'hear', 'lot', 'mentees', 'Especially', 'starting', 'ones', 'When', 'work', 'real', 'product', 'communicate', 'target', 'audience', 'But', 'beginning', 'career', 'work', 'concept', 'projects', 'also', 'place', 'remember', 'struggle', 'design', 'solution', 'would', 'best', 'could', 'validate', 'My', 'concepts', 'great', 'work', 'What', 'might', 'future', 'users', 'might', 'want', 'value', 'bring', 'tried', 'many', 'methods', 'like', 'finding', 'examples', 'high-quality', 'work', 'Behance', 'Dribbble', 'Another', 'method', 'compare', 'similar', 'online', 'products', 'All', 'methods', 'helpful', 'validate', 'sure', 'That', 'tried', 'new', 'method', 'My', 'Method', 'Building', 'Concept', 'Projects', 'A', 'concept', 'project', 'big', 'challenge', 'also', 'chance', 'work', 'level', 'complexity', 'industry', 'even', 'MAANG', 'products', 'It', 'next', 'project', 'Once', 'start', 'work', 'might', 'wondering', 'major', 'improvement', 'You', 'improve', 'create', 'many', 'things', 'start', 'You', 'need', 'start', 'understanding', 'project', 'goals', 'For', 'example', 'want', 'provide', 'better', 'experience', 'watch', 'movies', 'via', 'phone', 'This', 'general', 'idea', 'Next', 'concentrate', 'features', 'currently', 'online', 'make', 'list', 'Start', 'ideating', 'solutions', 'Once', 'list', 'solutions', 'create', 'user', 'scenario', 'follow', 'User', 'scenario', '—', 'imaginary', 'situation', 'path', 'user', 'would', 'follow', 'particular', 'problem', 'For', 'example', 'user', 'wants', 'find', 'concrete', 'movie', 'product', 'Based', 'feature', 'ideas', 'path', 'user', 'follow', 'Create', 'set', 'actions', 'diagram', 'better', 'understand', 'user', 'actions', 'Once', 'done', 'put', 'user', 'place', 'Start', 'actions', 'want', 'user', 'During', 'steps', 'make', 'quickly', 'ideate', 'missing', 'improve', 'product', 'This', 'method', 'works', 'task', 'check', 'one', 'screen', 'set', 'screens', 'along', 'features', 'Behaving', 'user', 'helps', 'understand', 'concept', 'works', 'like', 'make', 'final', 'goal', 'user', 'scenario', 'Final', 'Thoughts', 'Creating', 'separate', 'screens', 'great', 'way', 'start', 'working', 'project', 'But', 'see', 'whole', 'picture', 'ideas', 'need', 'use', 'user', 'scenario', 'method', 'Start', 'behaving', 'user', 'perform', 'steps', 'according', 'scenario', 'product', 'This', 'simple', 'trick', 'saves', 'time', 'gives', 'understanding', 'improvements', 'might', 'want', 'add', 'Try', 'today', 'see', 'design', 'concept', 'missing']\n",
      "Stemmed Sentence: ['the', 'best', 'method', 'to', 'design', 'user-friendli', 'product', 'it', 'simpl', 'one', 'use', 'how', 'design', 'user-friendli', 'product', 'thi', 'question', 'hear', 'lot', 'mente', 'especi', 'start', 'one', 'when', 'work', 'real', 'product', 'commun', 'target', 'audienc', 'but', 'begin', 'career', 'work', 'concept', 'project', 'also', 'place', 'rememb', 'struggl', 'design', 'solut', 'would', 'best', 'could', 'valid', 'my', 'concept', 'great', 'work', 'what', 'might', 'futur', 'user', 'might', 'want', 'valu', 'bring', 'tri', 'mani', 'method', 'like', 'find', 'exampl', 'high-qual', 'work', 'behanc', 'dribbbl', 'anoth', 'method', 'compar', 'similar', 'onlin', 'product', 'all', 'method', 'help', 'valid', 'sure', 'that', 'tri', 'new', 'method', 'my', 'method', 'build', 'concept', 'project', 'a', 'concept', 'project', 'big', 'challeng', 'also', 'chanc', 'work', 'level', 'complex', 'industri', 'even', 'maang', 'product', 'it', 'next', 'project', 'onc', 'start', 'work', 'might', 'wonder', 'major', 'improv', 'you', 'improv', 'creat', 'mani', 'thing', 'start', 'you', 'need', 'start', 'understand', 'project', 'goal', 'for', 'exampl', 'want', 'provid', 'better', 'experi', 'watch', 'movi', 'via', 'phone', 'thi', 'gener', 'idea', 'next', 'concentr', 'featur', 'current', 'onlin', 'make', 'list', 'start', 'ideat', 'solut', 'onc', 'list', 'solut', 'creat', 'user', 'scenario', 'follow', 'user', 'scenario', '—', 'imaginari', 'situat', 'path', 'user', 'would', 'follow', 'particular', 'problem', 'for', 'exampl', 'user', 'want', 'find', 'concret', 'movi', 'product', 'base', 'featur', 'idea', 'path', 'user', 'follow', 'creat', 'set', 'action', 'diagram', 'better', 'understand', 'user', 'action', 'onc', 'done', 'put', 'user', 'place', 'start', 'action', 'want', 'user', 'dure', 'step', 'make', 'quickli', 'ideat', 'miss', 'improv', 'product', 'thi', 'method', 'work', 'task', 'check', 'one', 'screen', 'set', 'screen', 'along', 'featur', 'behav', 'user', 'help', 'understand', 'concept', 'work', 'like', 'make', 'final', 'goal', 'user', 'scenario', 'final', 'thought', 'creat', 'separ', 'screen', 'great', 'way', 'start', 'work', 'project', 'but', 'see', 'whole', 'pictur', 'idea', 'need', 'use', 'user', 'scenario', 'method', 'start', 'behav', 'user', 'perform', 'step', 'accord', 'scenario', 'product', 'thi', 'simpl', 'trick', 'save', 'time', 'give', 'understand', 'improv', 'might', 'want', 'add', 'tri', 'today', 'see', 'design', 'concept', 'miss']\n"
     ]
    }
   ],
   "source": [
    "# Stemming\n",
    "from nltk.stem import PorterStemmer\n",
    "from nltk.tokenize import sent_tokenize, word_tokenize\n",
    "\n",
    "ps = PorterStemmer()\n",
    "\n",
    "stemmed_words=[]\n",
    "for w in filtered_sent:\n",
    "    stemmed_words.append(ps.stem(w))\n",
    "\n",
    "print(\"Filtered Sentence:\",filtered_sent)\n",
    "print(\"Stemmed Sentence:\",stemmed_words)\n"
   ]
  },
  {
   "cell_type": "code",
   "execution_count": 14,
   "id": "05dc416c",
   "metadata": {},
   "outputs": [
    {
     "name": "stdout",
     "output_type": "stream",
     "text": [
      "<FreqDist with 179 samples and 272 outcomes>\n"
     ]
    }
   ],
   "source": [
    "fdist_stopwords = FreqDist(filtered_sent)\n",
    "print(fdist_stopwords)"
   ]
  },
  {
   "cell_type": "code",
   "execution_count": 15,
   "id": "f8c74043",
   "metadata": {},
   "outputs": [
    {
     "data": {
      "text/plain": [
       "[('user', 11),\n",
       " ('work', 6),\n",
       " ('scenario', 5),\n",
       " ('This', 4),\n",
       " ('product', 4),\n",
       " ('concept', 4),\n",
       " ('might', 4),\n",
       " ('want', 4),\n",
       " ('method', 4),\n",
       " ('project', 4),\n",
       " ('start', 4),\n",
       " ('design', 3),\n",
       " ('products', 3),\n",
       " ('Once', 3),\n",
       " ('make', 3),\n",
       " ('Start', 3),\n",
       " ('follow', 3),\n",
       " ('actions', 3),\n",
       " ('Method', 2),\n",
       " ('It', 2),\n",
       " ('simple', 2),\n",
       " ('one', 2),\n",
       " ('But', 2),\n",
       " ('also', 2),\n",
       " ('place', 2),\n",
       " ('would', 2),\n",
       " ('validate', 2),\n",
       " ('My', 2),\n",
       " ('great', 2),\n",
       " ('tried', 2)]"
      ]
     },
     "execution_count": 15,
     "metadata": {},
     "output_type": "execute_result"
    }
   ],
   "source": [
    "fdist_stopwords.most_common(30)"
   ]
  },
  {
   "cell_type": "code",
   "execution_count": 16,
   "id": "c7836583",
   "metadata": {},
   "outputs": [
    {
     "data": {
      "image/png": "[encoded data removed]",
      "text/plain": [
       "<Figure size 1440x720 with 1 Axes>"
      ]
     },
     "metadata": {
      "needs_background": "light"
     },
     "output_type": "display_data"
    }
   ],
   "source": [
    "# new visualization of the 50 most repeated words\n",
    "\n",
    "fig = plt.figure(figsize = (20,10))\n",
    "fdist_stopwords.plot(30,cumulative=False)\n",
    "plt.show()"
   ]
  },
  {
   "cell_type": "markdown",
   "id": "b45f532a",
   "metadata": {},
   "source": [
    "## Steaming\n",
    "\n",
    "Stemming is a process of linguistic normalization, which reduces words to their word root word or chops off the derivational affixes. For example, connection, connected, connecting word reduce to a common word \"connect\"."
   ]
  },
  {
   "cell_type": "code",
   "execution_count": 17,
   "id": "73ce260c",
   "metadata": {},
   "outputs": [
    {
     "name": "stdout",
     "output_type": "stream",
     "text": [
      "Filtered Sentence: ['The', 'Best', 'Method', 'To', 'Design', 'User-Friendly', 'Products', 'It', 'simple', 'one', 'uses', 'How', 'design', 'user-friendly', 'products', 'This', 'question', 'hear', 'lot', 'mentees', 'Especially', 'starting', 'ones', 'When', 'work', 'real', 'product', 'communicate', 'target', 'audience', 'But', 'beginning', 'career', 'work', 'concept', 'projects', 'also', 'place', 'remember', 'struggle', 'design', 'solution', 'would', 'best', 'could', 'validate', 'My', 'concepts', 'great', 'work', 'What', 'might', 'future', 'users', 'might', 'want', 'value', 'bring', 'tried', 'many', 'methods', 'like', 'finding', 'examples', 'high-quality', 'work', 'Behance', 'Dribbble', 'Another', 'method', 'compare', 'similar', 'online', 'products', 'All', 'methods', 'helpful', 'validate', 'sure', 'That', 'tried', 'new', 'method', 'My', 'Method', 'Building', 'Concept', 'Projects', 'A', 'concept', 'project', 'big', 'challenge', 'also', 'chance', 'work', 'level', 'complexity', 'industry', 'even', 'MAANG', 'products', 'It', 'next', 'project', 'Once', 'start', 'work', 'might', 'wondering', 'major', 'improvement', 'You', 'improve', 'create', 'many', 'things', 'start', 'You', 'need', 'start', 'understanding', 'project', 'goals', 'For', 'example', 'want', 'provide', 'better', 'experience', 'watch', 'movies', 'via', 'phone', 'This', 'general', 'idea', 'Next', 'concentrate', 'features', 'currently', 'online', 'make', 'list', 'Start', 'ideating', 'solutions', 'Once', 'list', 'solutions', 'create', 'user', 'scenario', 'follow', 'User', 'scenario', '—', 'imaginary', 'situation', 'path', 'user', 'would', 'follow', 'particular', 'problem', 'For', 'example', 'user', 'wants', 'find', 'concrete', 'movie', 'product', 'Based', 'feature', 'ideas', 'path', 'user', 'follow', 'Create', 'set', 'actions', 'diagram', 'better', 'understand', 'user', 'actions', 'Once', 'done', 'put', 'user', 'place', 'Start', 'actions', 'want', 'user', 'During', 'steps', 'make', 'quickly', 'ideate', 'missing', 'improve', 'product', 'This', 'method', 'works', 'task', 'check', 'one', 'screen', 'set', 'screens', 'along', 'features', 'Behaving', 'user', 'helps', 'understand', 'concept', 'works', 'like', 'make', 'final', 'goal', 'user', 'scenario', 'Final', 'Thoughts', 'Creating', 'separate', 'screens', 'great', 'way', 'start', 'working', 'project', 'But', 'see', 'whole', 'picture', 'ideas', 'need', 'use', 'user', 'scenario', 'method', 'Start', 'behaving', 'user', 'perform', 'steps', 'according', 'scenario', 'product', 'This', 'simple', 'trick', 'saves', 'time', 'gives', 'understanding', 'improvements', 'might', 'want', 'add', 'Try', 'today', 'see', 'design', 'concept', 'missing']\n",
      "Stemmed Sentence: ['the', 'best', 'method', 'to', 'design', 'user-friendli', 'product', 'it', 'simpl', 'one', 'use', 'how', 'design', 'user-friendli', 'product', 'thi', 'question', 'hear', 'lot', 'mente', 'especi', 'start', 'one', 'when', 'work', 'real', 'product', 'commun', 'target', 'audienc', 'but', 'begin', 'career', 'work', 'concept', 'project', 'also', 'place', 'rememb', 'struggl', 'design', 'solut', 'would', 'best', 'could', 'valid', 'my', 'concept', 'great', 'work', 'what', 'might', 'futur', 'user', 'might', 'want', 'valu', 'bring', 'tri', 'mani', 'method', 'like', 'find', 'exampl', 'high-qual', 'work', 'behanc', 'dribbbl', 'anoth', 'method', 'compar', 'similar', 'onlin', 'product', 'all', 'method', 'help', 'valid', 'sure', 'that', 'tri', 'new', 'method', 'my', 'method', 'build', 'concept', 'project', 'a', 'concept', 'project', 'big', 'challeng', 'also', 'chanc', 'work', 'level', 'complex', 'industri', 'even', 'maang', 'product', 'it', 'next', 'project', 'onc', 'start', 'work', 'might', 'wonder', 'major', 'improv', 'you', 'improv', 'creat', 'mani', 'thing', 'start', 'you', 'need', 'start', 'understand', 'project', 'goal', 'for', 'exampl', 'want', 'provid', 'better', 'experi', 'watch', 'movi', 'via', 'phone', 'thi', 'gener', 'idea', 'next', 'concentr', 'featur', 'current', 'onlin', 'make', 'list', 'start', 'ideat', 'solut', 'onc', 'list', 'solut', 'creat', 'user', 'scenario', 'follow', 'user', 'scenario', '—', 'imaginari', 'situat', 'path', 'user', 'would', 'follow', 'particular', 'problem', 'for', 'exampl', 'user', 'want', 'find', 'concret', 'movi', 'product', 'base', 'featur', 'idea', 'path', 'user', 'follow', 'creat', 'set', 'action', 'diagram', 'better', 'understand', 'user', 'action', 'onc', 'done', 'put', 'user', 'place', 'start', 'action', 'want', 'user', 'dure', 'step', 'make', 'quickli', 'ideat', 'miss', 'improv', 'product', 'thi', 'method', 'work', 'task', 'check', 'one', 'screen', 'set', 'screen', 'along', 'featur', 'behav', 'user', 'help', 'understand', 'concept', 'work', 'like', 'make', 'final', 'goal', 'user', 'scenario', 'final', 'thought', 'creat', 'separ', 'screen', 'great', 'way', 'start', 'work', 'project', 'but', 'see', 'whole', 'pictur', 'idea', 'need', 'use', 'user', 'scenario', 'method', 'start', 'behav', 'user', 'perform', 'step', 'accord', 'scenario', 'product', 'thi', 'simpl', 'trick', 'save', 'time', 'give', 'understand', 'improv', 'might', 'want', 'add', 'tri', 'today', 'see', 'design', 'concept', 'miss']\n"
     ]
    }
   ],
   "source": [
    "# Stemming\n",
    "from nltk.stem import PorterStemmer\n",
    "from nltk.tokenize import sent_tokenize, word_tokenize\n",
    "\n",
    "ps = PorterStemmer()\n",
    "\n",
    "stemmed_words=[]\n",
    "for w in filtered_sent:\n",
    "    stemmed_words.append(ps.stem(w))\n",
    "\n",
    "print(\"Filtered Sentence:\",filtered_sent)\n",
    "print(\"Stemmed Sentence:\",stemmed_words)"
   ]
  },
  {
   "cell_type": "code",
   "execution_count": 18,
   "id": "3f46e432",
   "metadata": {},
   "outputs": [
    {
     "name": "stdout",
     "output_type": "stream",
     "text": [
      "<FreqDist with 140 samples and 272 outcomes>\n"
     ]
    }
   ],
   "source": [
    "#check\n",
    "stemmed = FreqDist(stemmed_words)\n",
    "print(stemmed)"
   ]
  },
  {
   "cell_type": "code",
   "execution_count": 19,
   "id": "e1fac027",
   "metadata": {},
   "outputs": [
    {
     "data": {
      "text/plain": [
       "[('user', 13),\n",
       " ('work', 9),\n",
       " ('method', 8),\n",
       " ('product', 8),\n",
       " ('start', 8),\n",
       " ('concept', 6),\n",
       " ('project', 6),\n",
       " ('want', 5),\n",
       " ('scenario', 5),\n",
       " ('design', 4),\n",
       " ('thi', 4),\n",
       " ('might', 4),\n",
       " ('improv', 4),\n",
       " ('creat', 4),\n",
       " ('understand', 4),\n",
       " ('one', 3),\n",
       " ('solut', 3),\n",
       " ('tri', 3),\n",
       " ('exampl', 3),\n",
       " ('onc', 3),\n",
       " ('idea', 3),\n",
       " ('featur', 3),\n",
       " ('make', 3),\n",
       " ('follow', 3),\n",
       " ('action', 3),\n",
       " ('screen', 3),\n",
       " ('best', 2),\n",
       " ('user-friendli', 2),\n",
       " ('it', 2),\n",
       " ('simpl', 2),\n",
       " ('use', 2),\n",
       " ('but', 2),\n",
       " ('also', 2),\n",
       " ('place', 2),\n",
       " ('would', 2),\n",
       " ('valid', 2),\n",
       " ('my', 2),\n",
       " ('great', 2),\n",
       " ('mani', 2),\n",
       " ('like', 2),\n",
       " ('find', 2),\n",
       " ('onlin', 2),\n",
       " ('help', 2),\n",
       " ('next', 2),\n",
       " ('you', 2),\n",
       " ('need', 2),\n",
       " ('goal', 2),\n",
       " ('for', 2),\n",
       " ('better', 2),\n",
       " ('movi', 2)]"
      ]
     },
     "execution_count": 19,
     "metadata": {},
     "output_type": "execute_result"
    }
   ],
   "source": [
    "#50 most repeated words after performing stemming\n",
    "\n",
    "stemmed.most_common(50)"
   ]
  },
  {
   "cell_type": "code",
   "execution_count": 20,
   "id": "25e8ce8e",
   "metadata": {},
   "outputs": [
    {
     "data": {
      "image/png": "[encoded data removed]",
      "text/plain": [
       "<Figure size 1440x720 with 1 Axes>"
      ]
     },
     "metadata": {
      "needs_background": "light"
     },
     "output_type": "display_data"
    }
   ],
   "source": [
    "#let visualize it:\n",
    "\n",
    "#visualization of the 50 most repeated words\n",
    "\n",
    "fig = plt.figure(figsize = (20,10))\n",
    "stemmed.plot(50,cumulative=False)\n",
    "plt.show()"
   ]
  },
  {
   "cell_type": "markdown",
   "id": "5eddd3d2",
   "metadata": {},
   "source": [
    "## Srntiment Analisys"
   ]
  },
  {
   "cell_type": "code",
   "execution_count": 32,
   "id": "283938ad",
   "metadata": {},
   "outputs": [
    {
     "name": "stdout",
     "output_type": "stream",
     "text": [
      "Requirement already satisfied: text2emotion in /Users/sandychiereghin/opt/anaconda3/lib/python3.9/site-packages (0.0.5)\n",
      "Requirement already satisfied: emoji>=0.6.0 in /Users/sandychiereghin/opt/anaconda3/lib/python3.9/site-packages (from text2emotion) (2.1.0)\n",
      "Requirement already satisfied: nltk in /Users/sandychiereghin/opt/anaconda3/lib/python3.9/site-packages (from text2emotion) (3.7)\n",
      "Requirement already satisfied: joblib in /Users/sandychiereghin/opt/anaconda3/lib/python3.9/site-packages (from nltk->text2emotion) (1.1.0)\n",
      "Requirement already satisfied: click in /Users/sandychiereghin/opt/anaconda3/lib/python3.9/site-packages (from nltk->text2emotion) (8.0.4)\n",
      "Requirement already satisfied: regex>=2021.8.3 in /Users/sandychiereghin/opt/anaconda3/lib/python3.9/site-packages (from nltk->text2emotion) (2022.3.15)\n",
      "Requirement already satisfied: tqdm in /Users/sandychiereghin/opt/anaconda3/lib/python3.9/site-packages (from nltk->text2emotion) (4.64.0)\n",
      "Note: you may need to restart the kernel to use updated packages.\n"
     ]
    }
   ],
   "source": [
    "pip install text2emotion"
   ]
  },
  {
   "cell_type": "code",
   "execution_count": 33,
   "id": "a20c2b98",
   "metadata": {},
   "outputs": [],
   "source": [
    "from nltk.sentiment.vader import SentimentIntensityAnalyzer\n",
    "from nltk import sentiment\n",
    "import text2emotion as te  \n",
    "import emoji\n",
    "import re"
   ]
  },
  {
   "cell_type": "code",
   "execution_count": 34,
   "id": "a8a7d363",
   "metadata": {},
   "outputs": [],
   "source": [
    "analyzer = SentimentIntensityAnalyzer()"
   ]
  },
  {
   "cell_type": "code",
   "execution_count": 48,
   "id": "866cafda",
   "metadata": {},
   "outputs": [
    {
     "data": {
      "text/plain": [
       "{'neg': 0.029, 'neu': 0.797, 'pos': 0.174, 'compound': 0.9976}"
      ]
     },
     "execution_count": 48,
     "metadata": {},
     "output_type": "execute_result"
    }
   ],
   "source": [
    "analyzer.polarity_scores(text)"
   ]
  },
  {
   "cell_type": "code",
   "execution_count": 51,
   "id": "084350c8",
   "metadata": {},
   "outputs": [],
   "source": [
    "import pandas as pd"
   ]
  },
  {
   "cell_type": "code",
   "execution_count": 62,
   "id": "c4ea9ee7",
   "metadata": {},
   "outputs": [
    {
     "data": {
      "text/html": [
       "<div>\n",
       "<style scoped>\n",
       "    .dataframe tbody tr th:only-of-type {\n",
       "        vertical-align: middle;\n",
       "    }\n",
       "\n",
       "    .dataframe tbody tr th {\n",
       "        vertical-align: top;\n",
       "    }\n",
       "\n",
       "    .dataframe thead th {\n",
       "        text-align: right;\n",
       "    }\n",
       "</style>\n",
       "<table border=\"1\" class=\"dataframe\">\n",
       "  <thead>\n",
       "    <tr style=\"text-align: right;\">\n",
       "      <th></th>\n",
       "      <th>Negavite</th>\n",
       "      <th>Neutral</th>\n",
       "      <th>Positive</th>\n",
       "      <th>Compound</th>\n",
       "    </tr>\n",
       "  </thead>\n",
       "  <tbody>\n",
       "    <tr>\n",
       "      <th>0</th>\n",
       "      <td>0.029</td>\n",
       "      <td>0.797</td>\n",
       "      <td>0.174</td>\n",
       "      <td>0.9976</td>\n",
       "    </tr>\n",
       "  </tbody>\n",
       "</table>\n",
       "</div>"
      ],
      "text/plain": [
       "   Negavite  Neutral  Positive  Compound\n",
       "0     0.029    0.797     0.174    0.9976"
      ]
     },
     "execution_count": 62,
     "metadata": {},
     "output_type": "execute_result"
    }
   ],
   "source": [
    "metrics = pd.DataFrame( data = [[0.029,\n",
    "                                0.797, 0.174 , 0.9976 ],\n",
    "                                ],\n",
    "                                  columns = ['Negavite', 'Neutral','Positive', 'Compound'])\n",
    "metrics.head()"
   ]
  },
  {
   "cell_type": "code",
   "execution_count": 64,
   "id": "fb5a1f32",
   "metadata": {},
   "outputs": [
    {
     "data": {
      "text/plain": [
       "<AxesSubplot:>"
      ]
     },
     "execution_count": 64,
     "metadata": {},
     "output_type": "execute_result"
    },
    {
     "data": {
      "image/png": "[encoded data removed]",
      "text/plain": [
       "<Figure size 720x720 with 1 Axes>"
      ]
     },
     "metadata": {
      "needs_background": "light"
     },
     "output_type": "display_data"
    }
   ],
   "source": [
    "metrics.plot(kind = 'bar',figsize=(10,10))"
   ]
  },
  {
   "cell_type": "markdown",
   "id": "00a74713",
   "metadata": {},
   "source": [
    "### References:\n",
    "\n",
    "Tutorial: https://www.datacamp.com/tutorial/text-analytics-beginners-nltk\n",
    "\n",
    "Text 2 Motion: https://colab.research.google.com/drive/1sCAcIGk2q9dL8dpFYddnsUin2MlhjaRw?usp=sharing#scrollTo=ivUkOaBPEQYr\n"
   ]
  },
  {
   "cell_type": "markdown",
   "id": "b6bb7964",
   "metadata": {},
   "source": [
    "### Conclusions\n",
    "\n",
    "1. The analyzed text using SentimentIntensityAnalyzer(), gave us a result tha is more positive than negative, and in general, it is neutral and formed with compounded sentences.\n",
    "\n"
   ]
  },
  {
   "cell_type": "code",
   "execution_count": null,
   "id": "67d64055",
   "metadata": {},
   "outputs": [],
   "source": []
  }
 ],
 "metadata": {
  "kernelspec": {
   "display_name": "Python 3 (ipykernel)",
   "language": "python",
   "name": "python3"
  },
  "language_info": {
   "codemirror_mode": {
    "name": "ipython",
    "version": 3
   },
   "file_extension": ".py",
   "mimetype": "text/x-python",
   "name": "python",
   "nbconvert_exporter": "python",
   "pygments_lexer": "ipython3",
   "version": "3.9.12"
  }
 },
 "nbformat": 4,
 "nbformat_minor": 5
}
